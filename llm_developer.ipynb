{
 "cells": [
  {
   "cell_type": "markdown",
   "metadata": {},
   "source": [
    "This is is basically your pom.xml or build.gradle."
   ]
  },
  {
   "cell_type": "code",
   "execution_count": 1,
   "metadata": {
    "vscode": {
     "languageId": "java"
    }
   },
   "outputs": [],
   "source": [
    "%maven dev.langchain4j:langchain4j:0.27.1\n",
    "%maven dev.langchain4j:langchain4j-core:0.27.1\n",
    "%maven dev.langchain4j:langchain4j-open-ai:0.27.1"
   ]
  },
  {
   "cell_type": "markdown",
   "metadata": {},
   "source": [
    "**Agent/Tool definition**\n",
    "In this case we provide the main LLM tools, which are LLMs themselves.\n",
    "\n",
    "For different agents we can even use different LLMs from different providers."
   ]
  },
  {
   "cell_type": "code",
   "execution_count": 2,
   "metadata": {
    "vscode": {
     "languageId": "java"
    }
   },
   "outputs": [],
   "source": [
    "import dev.langchain4j.agent.tool.Tool;\n",
    "import dev.langchain4j.service.UserMessage;\n",
    "import dev.langchain4j.service.AiServices;\n",
    "import dev.langchain4j.service.V;\n",
    "import static java.time.Duration.ofSeconds;\n",
    "import dev.langchain4j.model.chat.ChatLanguageModel;\n",
    "import dev.langchain4j.model.openai.OpenAiChatModel;\n",
    "\n",
    "static class BrainstormingAgent {\n",
    "\n",
    "    interface Brainstorming {\n",
    "        @UserMessage(\"ACT as a professional {{role}} and brainstorm on this problem statement: {{problemStatement}} \" + \n",
    "                     \"Give different possible solutions that make sense.\")\n",
    "        String brainstorm(@V(\"role\") String role, @V(\"problemStatement\") String problemStatement);\n",
    "    }    \n",
    "\n",
    "    static ChatLanguageModel brainstormingModel = OpenAiChatModel.builder()\n",
    "                                                // Using LM Studio for local LLMs, so api key is not needed\n",
    "                                                .apiKey(\"not-needed\")\n",
    "                                                // Using LM Studio for local LLMs (deploy a server with LM Studio)\n",
    "                                                .baseUrl(\"http://localhost:1234/v1/\")\n",
    "                                                // Using LM Studio for local LLMs, so model name is not needed\n",
    "                                                .modelName(\"not-needed\")\n",
    "                                                .temperature(0.3)\n",
    "                                                .timeout(ofSeconds(60))\n",
    "                                                .build();\n",
    "\n",
    "    static Brainstorming brainstorming = AiServices.create(Brainstorming.class, brainstormingModel);\n",
    "\n",
    "    @Tool(\"Brainstorming functon to brainstorm on a problem statement given a role\")\n",
    "    String brainstorm(String role, String problemStatement) {\n",
    "        System.out.println(\"********************** brainstorming ***********************\");\n",
    "        return brainstorming.brainstorm(role, problemStatement);\n",
    "    } \n",
    "\n",
    "    interface Evaluation {\n",
    "        @UserMessage(\"ACT as a professional {{role}} and evaluate this problem Statement: {{problemStatement}} with these solutions: {{possibleSolutions}}. \" +\n",
    "                     \"For each of the proposed solutions, evaluate their potential. Consider their pros and cons, \" +\n",
    "                     \"initial effort needed, implementation difficulty, potential risks and how well they solve the problem. \" +\n",
    "                     \"Give a score from 1-10 on how good the solution is to each option based on these factors.\")\n",
    "        String evaluate(@V(\"role\") String role, @V(\"problemStatement\") String problemStatement, @V(\"possibleSolutions\") String possibleSolutions);\n",
    "    }    \n",
    "\n",
    "    static ChatLanguageModel evaluationModel = OpenAiChatModel.builder()\n",
    "                                                // Using LM Studio for local LLMs, so api key is not needed\n",
    "                                                .apiKey(\"not-needed\")\n",
    "                                                // Using LM Studio for local LLMs (deploy a server with LM Studio)\n",
    "                                                .baseUrl(\"http://localhost:1234/v1/\")\n",
    "                                                // Using LM Studio for local LLMs, so model name is not needed\n",
    "                                                .modelName(\"not-needed\")\n",
    "                                                .temperature(0.3)\n",
    "                                                .timeout(ofSeconds(60))\n",
    "                                                .build();\n",
    "\n",
    "    static Evaluation evaluation = AiServices.create(Evaluation.class, evaluationModel);\n",
    "\n",
    "    @Tool(\"Evaluation function to evaluate a problem statement with possible solutions given a role\")\n",
    "    String evaluatePossibleSolutions(String role, String problemStatement, String possibleSolutions) {\n",
    "        System.out.println(\"********************** evaluation ***********************\");\n",
    "        return evaluation.evaluate(role, problemStatement, possibleSolutions);\n",
    "    }\n",
    "}\n",
    "\n"
   ]
  },
  {
   "cell_type": "markdown",
   "metadata": {},
   "source": [
    "**Brain/prefrontal cortex definition**\n",
    "\n",
    "This is the main LLM which will be used for the Tree-of-Thought coordination.\n",
    "\n",
    "We can think of it as a prefrontal cortex of the assistant, which is responsible for thinking and planning.\n",
    "\n",
    "Don't forget to replace \"YOUR API KEY\" with your actual OpenAI API key."
   ]
  },
  {
   "cell_type": "code",
   "execution_count": 3,
   "metadata": {
    "vscode": {
     "languageId": "java"
    }
   },
   "outputs": [
    {
     "name": "stderr",
     "output_type": "stream",
     "text": [
      "SLF4J: No SLF4J providers were found.\n",
      "SLF4J: Defaulting to no-operation (NOP) logger implementation\n",
      "SLF4J: See https://www.slf4j.org/codes.html#noProviders for further details.\n"
     ]
    }
   ],
   "source": [
    "import static dev.langchain4j.model.openai.OpenAiChatModelName.GPT_3_5_TURBO;\n",
    "import static dev.langchain4j.model.openai.OpenAiChatModelName.GPT_4_0125_PREVIEW;\n",
    "\n",
    "ChatLanguageModel model = OpenAiChatModel.builder()\n",
    "// your api key goes here\n",
    ".apiKey(\"YOUR API KEY\")\n",
    ".modelName(GPT_4_0125_PREVIEW)\n",
    "// GPT_3_5_TURBO is a less costly model but won't follow instructions as well\n",
    "// .modelName(GPT_3_5_TURBO)\n",
    ".temperature(0.3)\n",
    ".timeout(ofSeconds(60))\n",
    ".build();"
   ]
  },
  {
   "cell_type": "markdown",
   "metadata": {},
   "source": [
    "The _@SystemMessage_ is the main entry point for the Tree of Thought approach.\n",
    "\n",
    "If the main/\"brain\" AI model isn't performing according to your requirements, you try to adapt the _@SystemMessage_."
   ]
  },
  {
   "cell_type": "code",
   "execution_count": 8,
   "metadata": {
    "vscode": {
     "languageId": "java"
    }
   },
   "outputs": [],
   "source": [
    "\n",
    "import dev.langchain4j.memory.chat.MessageWindowChatMemory;\n",
    "import dev.langchain4j.service.SystemMessage;\n",
    "\n",
    "interface TreeOfThoughtAssistant {\n",
    "\n",
    "    @SystemMessage(\"Your task is to assist the user in their current task. You can ask questions to clarify the task, and then assist the user in completing the task. \" +\n",
    "                   \"Your first question will ALWAYS be, which ROLE you as a helpful assistant should assume. \" +\n",
    "\t\t           \"If you have enough information, you ALWAYS HAVE TO start brainstorming using the ROLE as a context for your brainstorming. \" + \n",
    "\t\t           \"For brainstorming, use 'brainstorming' tools which are available to you. \" +\n",
    "                   \"After you have enough information, you ALWAYS HAVE TO start evaluating the possible solutions. It is extremely important and pivotal, that you use evalution functions available to you. \" +\n",
    "                   \"For evaluation phase you can use 'evaluatePossibleSolutions' tools which are available to you. \" +\n",
    "                   \"Communicate with the user so that the user does not know, that you as a assistant are performing other tasks behind the scenes, like brainstorming or evaluation. \" +\n",
    "                   \"Based on the evaluations and scenarios, rank the solutions in the order from the best to the worst. Provide a justification for each ranking and offer any final thoughts \" +\n",
    "                   \"or considerations for each solution.\")\n",
    "    String treeOfThoughtChat(String message);\n",
    "}\n",
    "\n",
    "TreeOfThoughtAssistant assistant = AiServices.builder(TreeOfThoughtAssistant.class)\n",
    "                                .chatLanguageModel(model)\n",
    "                                .tools(new BrainstormingAgent())\n",
    "                                .chatMemory(MessageWindowChatMemory.withMaxMessages(10))\n",
    "                                .build();"
   ]
  },
  {
   "cell_type": "markdown",
   "metadata": {},
   "source": [
    "The main Tree of Thought LLM will reach out to its tools/agents to perform sub-task like brainstorming or evaluation.\n",
    "\n",
    "Please keep in mind that this process may take a few minutes, so please be patient.\n",
    "\n",
    "If you are using LM Studio, you can follow along with the logs in the LM Studio interface."
   ]
  },
  {
   "cell_type": "code",
   "execution_count": 9,
   "metadata": {
    "vscode": {
     "languageId": "java"
    }
   },
   "outputs": [
    {
     "name": "stdout",
     "output_type": "stream",
     "text": [
      "********************** brainstorming ***********************\n",
      "********************** evaluation ***********************\n"
     ]
    },
    {
     "data": {
      "text/plain": [
       "After evaluating the various philosophical perspectives on the meaning of life, here are the solutions ranked from best to worst, along with justifications for each ranking:\n",
       "\n",
       "1. **Personal Growth and Transformation (9/10):** This perspective emphasizes self-awareness, self-reflection, and personal responsibility. It promotes positive change, self-actualization, and provides a framework for overcoming obstacles and achieving personal growth. Despite potential drawbacks like the possibility of narcissistic behavior, it offers a practical and fulfilling approach to finding life's meaning through personal development.\n",
       "\n",
       "2. **Humanism's Perspective (8/10):** Humanism focuses on human values and experiences, offering an optimistic outlook that encourages empathy, compassion, and social engagement. It provides a practical framework for personal fulfillment, though it may overlook deeper existential questions.\n",
       "\n",
       "3. **Social Connection and Contribution (8/10):** This solution highlights the importance of empathy, compassion, understanding of others, and contributing to society's betterment. It fosters a sense of belonging and purpose, balancing individual needs with societal engagement, despite potential challenges in navigating social dynamics.\n",
       "\n",
       "4. **Existentialism's Embrace (7/10):** Existentialism acknowledges the absurdity of existence while encouraging individuals to create their own purpose. It promotes authenticity and self-discovery, though it may lead to nihilism and a lack of practical guidance for life's challenges.\n",
       "\n",
       "5. **Spiritual Perspectives (6/10):** Offering a sense of purpose and connection to something greater, spiritual perspectives encourage self-reflection and growth. However, they may conflict with scientific views and can be challenging to define objectively, leading to a lower ranking.\n",
       "\n",
       "Each perspective offers valuable insights into the meaning of life, with the best approaches emphasizing personal growth, human values, and social contribution. The choice of perspective may vary based on individual beliefs and experiences, highlighting the subjective nature of this profound question."
      ]
     },
     "execution_count": 9,
     "metadata": {},
     "output_type": "execute_result"
    }
   ],
   "source": [
    "assistant.treeOfThoughtChat(\"I want you to assume a role of a philosopher. What is the meaning of life?\")"
   ]
  }
 ],
 "metadata": {
  "kernelspec": {
   "display_name": "java (IJava/j!)",
   "language": "java",
   "name": "jbang-ijava"
  },
  "language_info": {
   "codemirror_mode": "java",
   "file_extension": ".jshell",
   "mimetype": "text/x-java-source",
   "name": "Java",
   "pygments_lexer": "java",
   "version": "21.0.2+13-jvmci-23.1-b30"
  }
 },
 "nbformat": 4,
 "nbformat_minor": 2
}
